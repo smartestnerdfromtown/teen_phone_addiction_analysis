{
 "cells": [
  {
   "cell_type": "code",
   "execution_count": 1,
   "metadata": {},
   "outputs": [],
   "source": [
    "import re\n",
    "from pyspark.sql import SparkSession\n",
    "from pyspark.sql import functions as F\n",
    "from pyspark.sql.types import (\n",
    "    StructType,\n",
    "    StructField,\n",
    "    StringType,\n",
    "    IntegerType,\n",
    "    DoubleType,\n",
    ")"
   ]
  },
  {
   "cell_type": "code",
   "execution_count": 4,
   "metadata": {},
   "outputs": [],
   "source": [
    "from pyspark.sql import SparkSession\n",
    "\n",
    "spark = (\n",
    "    SparkSession.builder.appName(\"Teen_Addictions\")\n",
    "    .config(\"spark.executor.memory\", \"4g\")\n",
    "    .getOrCreate()\n",
    ")\n",
    "\n",
    "spark.sparkContext.setLogLevel(\"ERROR\")\n",
    "# Tip to reader: use WARN for development, ERROR in prod"
   ]
  },
  {
   "cell_type": "code",
   "execution_count": 5,
   "metadata": {},
   "outputs": [],
   "source": [
    "df = spark.read.csv(\n",
    "    path=\"dataset/teen_phone_addiction_dataset.csv\",\n",
    "    header=True,\n",
    "    mode=\"PERMISSIVE\",\n",
    "    inferSchema=True\n",
    ")"
   ]
  },
  {
   "cell_type": "code",
   "execution_count": 6,
   "metadata": {},
   "outputs": [
    {
     "name": "stdout",
     "output_type": "stream",
     "text": [
      "root\n",
      " |-- ID: integer (nullable = true)\n",
      " |-- Name: string (nullable = true)\n",
      " |-- Age: integer (nullable = true)\n",
      " |-- Gender: string (nullable = true)\n",
      " |-- Location: string (nullable = true)\n",
      " |-- School_Grade: string (nullable = true)\n",
      " |-- Daily_Usage_Hours: double (nullable = true)\n",
      " |-- Sleep_Hours: double (nullable = true)\n",
      " |-- Academic_Performance: integer (nullable = true)\n",
      " |-- Social_Interactions: integer (nullable = true)\n",
      " |-- Exercise_Hours: double (nullable = true)\n",
      " |-- Anxiety_Level: integer (nullable = true)\n",
      " |-- Depression_Level: integer (nullable = true)\n",
      " |-- Self_Esteem: integer (nullable = true)\n",
      " |-- Parental_Control: integer (nullable = true)\n",
      " |-- Screen_Time_Before_Bed: double (nullable = true)\n",
      " |-- Phone_Checks_Per_Day: integer (nullable = true)\n",
      " |-- Apps_Used_Daily: integer (nullable = true)\n",
      " |-- Time_on_Social_Media: double (nullable = true)\n",
      " |-- Time_on_Gaming: double (nullable = true)\n",
      " |-- Time_on_Education: double (nullable = true)\n",
      " |-- Phone_Usage_Purpose: string (nullable = true)\n",
      " |-- Family_Communication: integer (nullable = true)\n",
      " |-- Weekend_Usage_Hours: double (nullable = true)\n",
      " |-- Addiction_Level: double (nullable = true)\n",
      "\n"
     ]
    }
   ],
   "source": [
    "df.printSchema()"
   ]
  },
  {
   "cell_type": "markdown",
   "metadata": {},
   "source": [
    "## Data Cleaning and Transformations"
   ]
  },
  {
   "cell_type": "markdown",
   "metadata": {},
   "source": [
    "### Changing Column Names to `snake_case`"
   ]
  },
  {
   "cell_type": "code",
   "execution_count": 7,
   "metadata": {},
   "outputs": [],
   "source": [
    "def to_snake_case(column_name):\n",
    "    \"\"\"\n",
    "    Convert column name to snake_case (PEP8 style).\n",
    "    Example: \"Addiction_level\" -> \"addiction_level\"\n",
    "    \"\"\"\n",
    "    \n",
    "    name = column_name.lower()\n",
    "    return name"
   ]
  },
  {
   "cell_type": "code",
   "execution_count": 8,
   "metadata": {},
   "outputs": [],
   "source": [
    "current_columns = df.columns\n",
    "column_mappings = {col: to_snake_case(col) for col in current_columns}\n",
    "\n",
    "for old_name, new_name in column_mappings.items():\n",
    "    df = df.withColumnRenamed(old_name, new_name)"
   ]
  },
  {
   "cell_type": "code",
   "execution_count": 10,
   "metadata": {},
   "outputs": [
    {
     "name": "stdout",
     "output_type": "stream",
     "text": [
      "+---+---------------+---+------+----------+------------+-----------------+-----------+--------------------+-------------------+--------------+-------------+----------------+-----------+----------------+----------------------+--------------------+---------------+--------------------+--------------+-----------------+-------------------+--------------------+-------------------+---------------+\n",
      "| id|           name|age|gender|  location|school_grade|daily_usage_hours|sleep_hours|academic_performance|social_interactions|exercise_hours|anxiety_level|depression_level|self_esteem|parental_control|screen_time_before_bed|phone_checks_per_day|apps_used_daily|time_on_social_media|time_on_gaming|time_on_education|phone_usage_purpose|family_communication|weekend_usage_hours|addiction_level|\n",
      "+---+---------------+---+------+----------+------------+-----------------+-----------+--------------------+-------------------+--------------+-------------+----------------+-----------+----------------+----------------------+--------------------+---------------+--------------------+--------------+-----------------+-------------------+--------------------+-------------------+---------------+\n",
      "|  1|Shannon Francis| 13|Female|Hansonfort|         9th|              4.0|        6.1|                  78|                  5|           0.1|           10|               3|          8|               0|                   1.4|                  86|             19|                 3.6|           1.7|              1.2|           Browsing|                   4|                8.7|           10.0|\n",
      "+---+---------------+---+------+----------+------------+-----------------+-----------+--------------------+-------------------+--------------+-------------+----------------+-----------+----------------+----------------------+--------------------+---------------+--------------------+--------------+-----------------+-------------------+--------------------+-------------------+---------------+\n",
      "only showing top 1 row\n"
     ]
    }
   ],
   "source": [
    "df.show(1)"
   ]
  },
  {
   "cell_type": "markdown",
   "metadata": {},
   "source": [
    "## Exploration"
   ]
  },
  {
   "cell_type": "code",
   "execution_count": 11,
   "metadata": {},
   "outputs": [],
   "source": [
    "df.createOrReplaceTempView('teen_dataset')"
   ]
  },
  {
   "cell_type": "markdown",
   "metadata": {},
   "source": [
    "### I. Top 5 Addicted Teens"
   ]
  },
  {
   "cell_type": "code",
   "execution_count": 15,
   "metadata": {},
   "outputs": [
    {
     "name": "stdout",
     "output_type": "stream",
     "text": [
      "+---+----------------+---+------+------------+-----------------+\n",
      "| id|            name|age|gender|school_grade|daily_usage_hours|\n",
      "+---+----------------+---+------+------------+-----------------+\n",
      "|  1| Shannon Francis| 13|Female|         9th|              4.0|\n",
      "|  2| Scott Rodriguez| 17|Female|         7th|              5.5|\n",
      "| 11|    Bobby Sparks| 18|Female|        12th|              4.9|\n",
      "| 13|    Sarah Nguyen| 19|Female|        10th|              7.4|\n",
      "| 14|Melanie Phillips| 17|Female|         9th|              8.7|\n",
      "| 17|    Matthew Webb| 15|Female|         8th|              5.4|\n",
      "| 19|      Amy Greene| 19|Female|         9th|              7.9|\n",
      "| 29|  Tammy Gallegos| 17|Female|        10th|              6.6|\n",
      "| 60|  Kelly Carrillo| 17|Female|         7th|              6.3|\n",
      "| 67|   Zachary Parks| 16|Female|        10th|              7.4|\n",
      "| 76|      Brenda Lee| 13|Female|         8th|              6.5|\n",
      "| 77| Jennifer Levine| 17|Female|         9th|              5.8|\n",
      "| 82|      Andrew Kim| 19|Female|         7th|              7.6|\n",
      "| 95|   Wesley Miller| 18|Female|         9th|              6.4|\n",
      "| 97|   Lindsey Sloan| 18|Female|        10th|              3.3|\n",
      "|114|   James Alvarez| 15|Female|         9th|              6.9|\n",
      "|116|   Cory Santiago| 15|Female|        11th|              6.6|\n",
      "|133|   Sandra Hanson| 14|Female|        10th|              6.8|\n",
      "|139|   Austin Nelson| 14|Female|         7th|              8.0|\n",
      "|142|  Brian Mcdonald| 14|Female|        12th|              4.8|\n",
      "+---+----------------+---+------+------------+-----------------+\n",
      "only showing top 20 rows\n"
     ]
    }
   ],
   "source": [
    "spark.sql(\n",
    "    \"\"\"\n",
    "    select id, name, age, gender, school_grade, daily_usage_hours\n",
    "    from \n",
    "        (select *, \n",
    "            dense_rank() over(partition by gender order by addiction_level desc) as rnk\n",
    "        from teen_dataset) t\n",
    "    where rnk <= 5\n",
    "    \"\"\"\n",
    ").show()"
   ]
  },
  {
   "cell_type": "markdown",
   "metadata": {},
   "source": [
    "### II. Average Sleep vs. Addiction"
   ]
  },
  {
   "cell_type": "code",
   "execution_count": 19,
   "metadata": {},
   "outputs": [
    {
     "name": "stdout",
     "output_type": "stream",
     "text": [
      "+---------------+---------+\n",
      "|addiction_stage|avg_sleep|\n",
      "+---------------+---------+\n",
      "|          light|     7.96|\n",
      "|       moderate|     7.13|\n",
      "|         severe|     6.38|\n",
      "+---------------+---------+\n",
      "\n"
     ]
    }
   ],
   "source": [
    "spark.sql(\n",
    "    \"\"\"\n",
    "    select addiction_stage, round(avg(sleep_hours), 2) as avg_sleep\n",
    "    from \n",
    "        (select id, name, age, gender, school_grade, daily_usage_hours, sleep_hours,\n",
    "            (case \n",
    "                when addiction_level >= 0 and addiction_level < 3 then \"light\"\n",
    "                when addiction_level >= 3 and addiction_level < 7 then \"moderate\"\n",
    "                when addiction_level >= 7 then \"severe\"\n",
    "            end) as addiction_stage     \n",
    "        from teen_dataset) t\n",
    "    group by addiction_stage\n",
    "    \"\"\"\n",
    ").show()"
   ]
  },
  {
   "cell_type": "code",
   "execution_count": null,
   "metadata": {},
   "outputs": [],
   "source": []
  },
  {
   "cell_type": "code",
   "execution_count": null,
   "metadata": {},
   "outputs": [],
   "source": []
  }
 ],
 "metadata": {
  "kernelspec": {
   "display_name": "kaggle_experiments",
   "language": "python",
   "name": "python3"
  },
  "language_info": {
   "codemirror_mode": {
    "name": "ipython",
    "version": 3
   },
   "file_extension": ".py",
   "mimetype": "text/x-python",
   "name": "python",
   "nbconvert_exporter": "python",
   "pygments_lexer": "ipython3",
   "version": "3.13.7"
  }
 },
 "nbformat": 4,
 "nbformat_minor": 2
}
