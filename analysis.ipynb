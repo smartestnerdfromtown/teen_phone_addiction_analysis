{
 "cells": [
  {
   "cell_type": "code",
   "execution_count": 1,
   "metadata": {},
   "outputs": [],
   "source": [
    "import re\n",
    "from pyspark.sql import SparkSession\n",
    "from pyspark.sql import functions as F\n",
    "from pyspark.sql.types import (\n",
    "    StructType,\n",
    "    StructField,\n",
    "    StringType,\n",
    "    IntegerType,\n",
    "    DoubleType,\n",
    ")"
   ]
  },
  {
   "cell_type": "code",
   "execution_count": 3,
   "metadata": {},
   "outputs": [],
   "source": [
    "from pyspark.sql import SparkSession\n",
    "\n",
    "spark = (\n",
    "    SparkSession.builder.appName(\"Teen_Addictions\")\n",
    "    .config(\"spark.executor.memory\", \"4g\")\n",
    "    .getOrCreate()\n",
    ")\n",
    "\n",
    "spark.sparkContext.setLogLevel(\"ERROR\")\n",
    "# Tip to reader: use WARN for development, ERROR in prod"
   ]
  },
  {
   "cell_type": "code",
   "execution_count": 4,
   "metadata": {},
   "outputs": [],
   "source": [
    "df = spark.read.csv(\n",
    "    path=\"dataset/teen_phone_addiction_dataset.csv\",\n",
    "    header=True,\n",
    "    mode=\"PERMISSIVE\",\n",
    ")"
   ]
  },
  {
   "cell_type": "code",
   "execution_count": 5,
   "metadata": {},
   "outputs": [
    {
     "name": "stdout",
     "output_type": "stream",
     "text": [
      "root\n",
      " |-- ID: string (nullable = true)\n",
      " |-- Name: string (nullable = true)\n",
      " |-- Age: string (nullable = true)\n",
      " |-- Gender: string (nullable = true)\n",
      " |-- Location: string (nullable = true)\n",
      " |-- School_Grade: string (nullable = true)\n",
      " |-- Daily_Usage_Hours: string (nullable = true)\n",
      " |-- Sleep_Hours: string (nullable = true)\n",
      " |-- Academic_Performance: string (nullable = true)\n",
      " |-- Social_Interactions: string (nullable = true)\n",
      " |-- Exercise_Hours: string (nullable = true)\n",
      " |-- Anxiety_Level: string (nullable = true)\n",
      " |-- Depression_Level: string (nullable = true)\n",
      " |-- Self_Esteem: string (nullable = true)\n",
      " |-- Parental_Control: string (nullable = true)\n",
      " |-- Screen_Time_Before_Bed: string (nullable = true)\n",
      " |-- Phone_Checks_Per_Day: string (nullable = true)\n",
      " |-- Apps_Used_Daily: string (nullable = true)\n",
      " |-- Time_on_Social_Media: string (nullable = true)\n",
      " |-- Time_on_Gaming: string (nullable = true)\n",
      " |-- Time_on_Education: string (nullable = true)\n",
      " |-- Phone_Usage_Purpose: string (nullable = true)\n",
      " |-- Family_Communication: string (nullable = true)\n",
      " |-- Weekend_Usage_Hours: string (nullable = true)\n",
      " |-- Addiction_Level: string (nullable = true)\n",
      "\n"
     ]
    }
   ],
   "source": [
    "df.printSchema()"
   ]
  },
  {
   "cell_type": "code",
   "execution_count": null,
   "metadata": {},
   "outputs": [],
   "source": []
  }
 ],
 "metadata": {
  "kernelspec": {
   "display_name": "kaggle_experiments",
   "language": "python",
   "name": "python3"
  },
  "language_info": {
   "codemirror_mode": {
    "name": "ipython",
    "version": 3
   },
   "file_extension": ".py",
   "mimetype": "text/x-python",
   "name": "python",
   "nbconvert_exporter": "python",
   "pygments_lexer": "ipython3",
   "version": "3.13.7"
  }
 },
 "nbformat": 4,
 "nbformat_minor": 2
}
