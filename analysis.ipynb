{
 "cells": [
  {
   "cell_type": "code",
   "execution_count": 1,
   "metadata": {},
   "outputs": [],
   "source": [
    "import re\n",
    "from pyspark.sql import SparkSession\n",
    "from pyspark.sql import functions as F\n",
    "from pyspark.sql.types import (\n",
    "    StructType,\n",
    "    StructField,\n",
    "    StringType,\n",
    "    IntegerType,\n",
    "    DoubleType,\n",
    ")"
   ]
  },
  {
   "cell_type": "code",
   "execution_count": 4,
   "metadata": {},
   "outputs": [],
   "source": [
    "from pyspark.sql import SparkSession\n",
    "\n",
    "spark = (\n",
    "    SparkSession.builder.appName(\"Teen_Addictions\")\n",
    "    .config(\"spark.executor.memory\", \"4g\")\n",
    "    .getOrCreate()\n",
    ")\n",
    "\n",
    "spark.sparkContext.setLogLevel(\"ERROR\")\n",
    "# Tip to reader: use WARN for development, ERROR in prod"
   ]
  },
  {
   "cell_type": "code",
   "execution_count": 5,
   "metadata": {},
   "outputs": [],
   "source": [
    "df = spark.read.csv(\n",
    "    path=\"dataset/teen_phone_addiction_dataset.csv\",\n",
    "    header=True,\n",
    "    mode=\"PERMISSIVE\",\n",
    "    inferSchema=True\n",
    ")"
   ]
  },
  {
   "cell_type": "code",
   "execution_count": 6,
   "metadata": {},
   "outputs": [
    {
     "name": "stdout",
     "output_type": "stream",
     "text": [
      "root\n",
      " |-- ID: integer (nullable = true)\n",
      " |-- Name: string (nullable = true)\n",
      " |-- Age: integer (nullable = true)\n",
      " |-- Gender: string (nullable = true)\n",
      " |-- Location: string (nullable = true)\n",
      " |-- School_Grade: string (nullable = true)\n",
      " |-- Daily_Usage_Hours: double (nullable = true)\n",
      " |-- Sleep_Hours: double (nullable = true)\n",
      " |-- Academic_Performance: integer (nullable = true)\n",
      " |-- Social_Interactions: integer (nullable = true)\n",
      " |-- Exercise_Hours: double (nullable = true)\n",
      " |-- Anxiety_Level: integer (nullable = true)\n",
      " |-- Depression_Level: integer (nullable = true)\n",
      " |-- Self_Esteem: integer (nullable = true)\n",
      " |-- Parental_Control: integer (nullable = true)\n",
      " |-- Screen_Time_Before_Bed: double (nullable = true)\n",
      " |-- Phone_Checks_Per_Day: integer (nullable = true)\n",
      " |-- Apps_Used_Daily: integer (nullable = true)\n",
      " |-- Time_on_Social_Media: double (nullable = true)\n",
      " |-- Time_on_Gaming: double (nullable = true)\n",
      " |-- Time_on_Education: double (nullable = true)\n",
      " |-- Phone_Usage_Purpose: string (nullable = true)\n",
      " |-- Family_Communication: integer (nullable = true)\n",
      " |-- Weekend_Usage_Hours: double (nullable = true)\n",
      " |-- Addiction_Level: double (nullable = true)\n",
      "\n"
     ]
    }
   ],
   "source": [
    "df.printSchema()"
   ]
  },
  {
   "cell_type": "markdown",
   "metadata": {},
   "source": [
    "## Data Cleaning and Transformations"
   ]
  },
  {
   "cell_type": "markdown",
   "metadata": {},
   "source": [
    "### Changing Column Names to `snake_case`"
   ]
  },
  {
   "cell_type": "code",
   "execution_count": 7,
   "metadata": {},
   "outputs": [],
   "source": [
    "def to_snake_case(column_name):\n",
    "    \"\"\"\n",
    "    Convert column name to snake_case (PEP8 style).\n",
    "    Example: \"Addiction_level\" -> \"addiction_level\"\n",
    "    \"\"\"\n",
    "    \n",
    "    name = column_name.lower()\n",
    "    return name"
   ]
  },
  {
   "cell_type": "code",
   "execution_count": 8,
   "metadata": {},
   "outputs": [],
   "source": [
    "current_columns = df.columns\n",
    "column_mappings = {col: to_snake_case(col) for col in current_columns}\n",
    "\n",
    "for old_name, new_name in column_mappings.items():\n",
    "    df = df.withColumnRenamed(old_name, new_name)"
   ]
  },
  {
   "cell_type": "code",
   "execution_count": 59,
   "metadata": {},
   "outputs": [
    {
     "name": "stdout",
     "output_type": "stream",
     "text": [
      "+---+---------------+---+------+------------+------------+-----------------+-----------+--------------------+-------------------+--------------+-------------+----------------+-----------+----------------+----------------------+--------------------+---------------+--------------------+--------------+-----------------+-------------------+--------------------+-------------------+---------------+\n",
      "| id|           name|age|gender|    location|school_grade|daily_usage_hours|sleep_hours|academic_performance|social_interactions|exercise_hours|anxiety_level|depression_level|self_esteem|parental_control|screen_time_before_bed|phone_checks_per_day|apps_used_daily|time_on_social_media|time_on_gaming|time_on_education|phone_usage_purpose|family_communication|weekend_usage_hours|addiction_level|\n",
      "+---+---------------+---+------+------------+------------+-----------------+-----------+--------------------+-------------------+--------------+-------------+----------------+-----------+----------------+----------------------+--------------------+---------------+--------------------+--------------+-----------------+-------------------+--------------------+-------------------+---------------+\n",
      "|  1|Shannon Francis| 13|Female|  Hansonfort|         9th|              4.0|        6.1|                  78|                  5|           0.1|           10|               3|          8|               0|                   1.4|                  86|             19|                 3.6|           1.7|              1.2|           Browsing|                   4|                8.7|           10.0|\n",
      "|  2|Scott Rodriguez| 17|Female|Theodorefort|         7th|              5.5|        6.5|                  70|                  5|           0.0|            3|               7|          3|               0|                   0.9|                  96|              9|                 1.1|           4.0|              1.8|           Browsing|                   2|                5.3|           10.0|\n",
      "|  3|    Adrian Knox| 13| Other| Lindseystad|        11th|              5.8|        5.5|                  93|                  8|           0.8|            2|               3|         10|               0|                   0.5|                 137|              8|                 0.3|           1.5|              0.4|          Education|                   6|                5.7|            9.2|\n",
      "+---+---------------+---+------+------------+------------+-----------------+-----------+--------------------+-------------------+--------------+-------------+----------------+-----------+----------------+----------------------+--------------------+---------------+--------------------+--------------+-----------------+-------------------+--------------------+-------------------+---------------+\n",
      "only showing top 3 rows\n"
     ]
    }
   ],
   "source": [
    "df.show(3)"
   ]
  },
  {
   "cell_type": "markdown",
   "metadata": {},
   "source": [
    "### Working With Genders"
   ]
  },
  {
   "cell_type": "code",
   "execution_count": 70,
   "metadata": {},
   "outputs": [
    {
     "name": "stdout",
     "output_type": "stream",
     "text": [
      "+------+\n",
      "|gender|\n",
      "+------+\n",
      "|Female|\n",
      "| Other|\n",
      "|  Male|\n",
      "+------+\n",
      "\n"
     ]
    }
   ],
   "source": [
    "df.select('gender').distinct().show()"
   ]
  },
  {
   "cell_type": "markdown",
   "metadata": {},
   "source": [
    "Did not know that we also have new gender, which is called `other`. New gender!"
   ]
  },
  {
   "cell_type": "code",
   "execution_count": 74,
   "metadata": {},
   "outputs": [],
   "source": [
    "df = df.filter(F.col('gender') != 'Other')"
   ]
  },
  {
   "cell_type": "markdown",
   "metadata": {},
   "source": [
    "## Exploration"
   ]
  },
  {
   "cell_type": "code",
   "execution_count": 11,
   "metadata": {},
   "outputs": [],
   "source": [
    "df.createOrReplaceTempView('teen_dataset')"
   ]
  },
  {
   "cell_type": "markdown",
   "metadata": {},
   "source": [
    "### I. Top 5 Addicted Teens"
   ]
  },
  {
   "cell_type": "code",
   "execution_count": 15,
   "metadata": {},
   "outputs": [
    {
     "name": "stdout",
     "output_type": "stream",
     "text": [
      "+---+----------------+---+------+------------+-----------------+\n",
      "| id|            name|age|gender|school_grade|daily_usage_hours|\n",
      "+---+----------------+---+------+------------+-----------------+\n",
      "|  1| Shannon Francis| 13|Female|         9th|              4.0|\n",
      "|  2| Scott Rodriguez| 17|Female|         7th|              5.5|\n",
      "| 11|    Bobby Sparks| 18|Female|        12th|              4.9|\n",
      "| 13|    Sarah Nguyen| 19|Female|        10th|              7.4|\n",
      "| 14|Melanie Phillips| 17|Female|         9th|              8.7|\n",
      "| 17|    Matthew Webb| 15|Female|         8th|              5.4|\n",
      "| 19|      Amy Greene| 19|Female|         9th|              7.9|\n",
      "| 29|  Tammy Gallegos| 17|Female|        10th|              6.6|\n",
      "| 60|  Kelly Carrillo| 17|Female|         7th|              6.3|\n",
      "| 67|   Zachary Parks| 16|Female|        10th|              7.4|\n",
      "| 76|      Brenda Lee| 13|Female|         8th|              6.5|\n",
      "| 77| Jennifer Levine| 17|Female|         9th|              5.8|\n",
      "| 82|      Andrew Kim| 19|Female|         7th|              7.6|\n",
      "| 95|   Wesley Miller| 18|Female|         9th|              6.4|\n",
      "| 97|   Lindsey Sloan| 18|Female|        10th|              3.3|\n",
      "|114|   James Alvarez| 15|Female|         9th|              6.9|\n",
      "|116|   Cory Santiago| 15|Female|        11th|              6.6|\n",
      "|133|   Sandra Hanson| 14|Female|        10th|              6.8|\n",
      "|139|   Austin Nelson| 14|Female|         7th|              8.0|\n",
      "|142|  Brian Mcdonald| 14|Female|        12th|              4.8|\n",
      "+---+----------------+---+------+------------+-----------------+\n",
      "only showing top 20 rows\n"
     ]
    }
   ],
   "source": [
    "spark.sql(\n",
    "    \"\"\"\n",
    "    select id, name, age, gender, school_grade, daily_usage_hours\n",
    "    from \n",
    "        (select *, \n",
    "            dense_rank() over(partition by gender order by addiction_level desc) as rnk\n",
    "        from teen_dataset) t\n",
    "    where rnk <= 5\n",
    "    \"\"\"\n",
    ").show()"
   ]
  },
  {
   "cell_type": "markdown",
   "metadata": {},
   "source": [
    "### II. Average Sleep vs. Addiction"
   ]
  },
  {
   "cell_type": "code",
   "execution_count": 19,
   "metadata": {},
   "outputs": [
    {
     "name": "stdout",
     "output_type": "stream",
     "text": [
      "+---------------+---------+\n",
      "|addiction_stage|avg_sleep|\n",
      "+---------------+---------+\n",
      "|          light|     7.96|\n",
      "|       moderate|     7.13|\n",
      "|         severe|     6.38|\n",
      "+---------------+---------+\n",
      "\n"
     ]
    }
   ],
   "source": [
    "spark.sql(\n",
    "    \"\"\"\n",
    "    select addiction_stage, round(avg(sleep_hours), 2) as avg_sleep\n",
    "    from \n",
    "        (select id, name, age, gender, school_grade, daily_usage_hours, sleep_hours,\n",
    "            (case \n",
    "                when addiction_level >= 0 and addiction_level < 3 then \"light\"\n",
    "                when addiction_level >= 3 and addiction_level < 7 then \"moderate\"\n",
    "                when addiction_level >= 7 then \"severe\"\n",
    "            end) as addiction_stage     \n",
    "        from teen_dataset) t\n",
    "    group by addiction_stage\n",
    "    \"\"\"\n",
    ").show()"
   ]
  },
  {
   "cell_type": "markdown",
   "metadata": {},
   "source": [
    "### III. Screen Time Before Bed Impact\n",
    "The idea is that I am going to compare `academic_performance` of teens who have `screen_time_before_bed` > 2 hours vs. those with less."
   ]
  },
  {
   "cell_type": "code",
   "execution_count": 30,
   "metadata": {},
   "outputs": [
    {
     "name": "stdout",
     "output_type": "stream",
     "text": [
      "+------------+---------------+\n",
      "|watch_status|avg_performance|\n",
      "+------------+---------------+\n",
      "|     watcher|          73.91|\n",
      "| non_watcher|          74.97|\n",
      "+------------+---------------+\n",
      "\n"
     ]
    }
   ],
   "source": [
    "spark.sql(\n",
    "    \"\"\"\n",
    "    select \n",
    "        watch_status, \n",
    "        round(avg(academic_performance), 2) as avg_performance\n",
    "    from \n",
    "        (select \n",
    "            (case \n",
    "                when screen_time_before_bed > 2 then \"watcher\" \n",
    "                else \"non_watcher\" \n",
    "            end) as watch_status, \n",
    "            id, \n",
    "            name,\n",
    "            academic_performance,\n",
    "            screen_time_before_bed\n",
    "        from teen_dataset\n",
    "        order by screen_time_before_bed desc) t\n",
    "    group by watch_status\n",
    "    \"\"\"\n",
    ").show()"
   ]
  },
  {
   "cell_type": "markdown",
   "metadata": {},
   "source": [
    "### IV. Phone Purpose Distribution"
   ]
  },
  {
   "cell_type": "code",
   "execution_count": 33,
   "metadata": {},
   "outputs": [
    {
     "name": "stdout",
     "output_type": "stream",
     "text": [
      "+-------------------+\n",
      "|phone_usage_purpose|\n",
      "+-------------------+\n",
      "|          Education|\n",
      "|             Gaming|\n",
      "|           Browsing|\n",
      "|              Other|\n",
      "|       Social Media|\n",
      "+-------------------+\n",
      "\n"
     ]
    }
   ],
   "source": [
    "df.select('phone_usage_purpose').distinct().show()"
   ]
  },
  {
   "cell_type": "code",
   "execution_count": 37,
   "metadata": {},
   "outputs": [
    {
     "name": "stdout",
     "output_type": "stream",
     "text": [
      "+-------------------+---------------+----------+---------------+\n",
      "|phone_usage_purpose|avg_performance|avg_esteem|number_of_users|\n",
      "+-------------------+---------------+----------+---------------+\n",
      "|          Education|           75.0|       6.0|            602|\n",
      "|             Gaming|           76.0|       6.0|            574|\n",
      "|           Browsing|           75.0|       6.0|            627|\n",
      "|              Other|           74.0|       6.0|            622|\n",
      "|       Social Media|           75.0|       5.0|            575|\n",
      "+-------------------+---------------+----------+---------------+\n",
      "\n"
     ]
    }
   ],
   "source": [
    "spark.sql(\n",
    "    \"\"\"\n",
    "    select \n",
    "        phone_usage_purpose,\n",
    "        round(avg(academic_performance)) as avg_performance,\n",
    "        round(avg(self_esteem)) as avg_esteem,\n",
    "        count(*) as number_of_users\n",
    "    from teen_dataset\n",
    "    group by phone_usage_purpose \n",
    "    \"\"\"\n",
    ").show()"
   ]
  },
  {
   "cell_type": "markdown",
   "metadata": {},
   "source": [
    "### V. Weekend vs. Weekday Usage (indicating binge usage)"
   ]
  },
  {
   "cell_type": "code",
   "execution_count": 46,
   "metadata": {},
   "outputs": [
    {
     "name": "stdout",
     "output_type": "stream",
     "text": [
      "+------------------+-------------------+-----------------+\n",
      "|              name|weekend_usage_hours|daily_usage_hours|\n",
      "+------------------+-------------------+-----------------+\n",
      "|   Shannon Francis|                8.7|              4.0|\n",
      "|      Edward Avila|                9.1|              3.0|\n",
      "|       John Cooper|                7.5|              3.0|\n",
      "|  Michael Williams|                6.7|              3.0|\n",
      "|  Patricia Johnson|                5.7|              2.7|\n",
      "|     Bailey Flores|                9.3|              4.1|\n",
      "|    Cameron Hansen|                6.2|              1.7|\n",
      "|     Jessica Smith|               10.4|              3.3|\n",
      "|       Brandi King|                5.8|              1.0|\n",
      "|  Kathleen Hoffman|                7.6|              3.4|\n",
      "|  Christine Hansen|               11.0|              4.1|\n",
      "|       Maria Ochoa|                9.3|              3.8|\n",
      "|     Brian Coleman|                5.3|              0.7|\n",
      "|  Gregory Martinez|                6.7|              3.0|\n",
      "|        Keith Ward|                6.5|              1.7|\n",
      "|   Valerie Blevins|                8.2|              2.8|\n",
      "|        John Evans|                7.6|              2.2|\n",
      "|    Sarah Harrison|                4.4|              2.0|\n",
      "|Melissa Becker DDS|                5.6|              2.0|\n",
      "|      John Griffin|                6.7|              3.0|\n",
      "+------------------+-------------------+-----------------+\n",
      "only showing top 20 rows\n"
     ]
    }
   ],
   "source": [
    "spark.sql(\n",
    "    \"\"\"\n",
    "    select \n",
    "        name,\n",
    "        weekend_usage_hours,\n",
    "        daily_usage_hours\n",
    "    from teen_dataset\n",
    "    where weekend_usage_hours > 2 * daily_usage_hours\n",
    "    \"\"\"\n",
    ").show()"
   ]
  },
  {
   "cell_type": "markdown",
   "metadata": {},
   "source": [
    "### VI. Top Performers with High Usage"
   ]
  },
  {
   "cell_type": "code",
   "execution_count": 53,
   "metadata": {},
   "outputs": [
    {
     "name": "stdout",
     "output_type": "stream",
     "text": [
      "+----+-------------------+------+-----------------+--------------------+\n",
      "|  id|               name|gender|daily_usage_hours|academic_performance|\n",
      "+----+-------------------+------+-----------------+--------------------+\n",
      "|2671|   Deborah Gonzalez| Other|             11.5|                  96|\n",
      "| 583|       Julia Rogers|Female|             10.5|                  97|\n",
      "|1550|    Thomas Mckinney| Other|             10.3|                  98|\n",
      "| 978|     Alyssa Jenkins|  Male|              9.4|                  97|\n",
      "| 339|        Robert Hays| Other|              9.2|                  96|\n",
      "| 596|      Brian Alvarez|Female|              9.1|                  99|\n",
      "|2841|      Julia Terrell| Other|              9.1|                  96|\n",
      "| 409|          Ian Riley| Other|              8.7|                  97|\n",
      "|2980|      Travis Harris|  Male|              8.7|                  98|\n",
      "| 754|    Matthew Gardner|Female|              8.5|                  98|\n",
      "| 239|      Kelly Vasquez|  Male|              8.4|                  99|\n",
      "| 930|      Nina Humphrey|  Male|              8.4|                 100|\n",
      "|2416|  Abigail Hernandez| Other|              8.4|                  98|\n",
      "| 616|Christopher Jackson|  Male|              8.3|                  97|\n",
      "| 705|         Dawn Solis|  Male|              8.3|                  98|\n",
      "|  19|         Amy Greene|Female|              7.9|                  96|\n",
      "| 800|      Zachary Moore|  Male|              7.8|                  96|\n",
      "| 945|            Amy Fox|  Male|              7.8|                  98|\n",
      "|1069|      Kim Rodriguez| Other|              7.8|                  96|\n",
      "|2443|   Brenda Hernandez| Other|              7.8|                  97|\n",
      "+----+-------------------+------+-----------------+--------------------+\n",
      "only showing top 20 rows\n"
     ]
    }
   ],
   "source": [
    "spark.sql(\n",
    "    \"\"\"\n",
    "    select \n",
    "        id, \n",
    "        name, \n",
    "        gender, \n",
    "        daily_usage_hours, \n",
    "        academic_performance\n",
    "    from \n",
    "        (select *\n",
    "        from teen_dataset\n",
    "        where daily_usage_hours > 6) t\n",
    "    where academic_performance > 95\n",
    "    order by daily_usage_hours desc\n",
    "    \"\"\"\n",
    ").show()"
   ]
  },
  {
   "cell_type": "markdown",
   "metadata": {},
   "source": [
    "### VII. Exercise vs. Social Media"
   ]
  },
  {
   "cell_type": "code",
   "execution_count": 58,
   "metadata": {},
   "outputs": [
    {
     "name": "stdout",
     "output_type": "stream",
     "text": [
      "+---------------+---------------+----------------+\n",
      "|activity_status|no_of_staudents|avg_social_media|\n",
      "+---------------+---------------+----------------+\n",
      "| kind_of_active|           1551|            2.47|\n",
      "|     not_active|           1422|            2.53|\n",
      "|         active|             27|             2.5|\n",
      "+---------------+---------------+----------------+\n",
      "\n"
     ]
    }
   ],
   "source": [
    "spark.sql(\n",
    "    \"\"\"\n",
    "    select \n",
    "        activity_status, \n",
    "        count(*) as no_of_staudents,\n",
    "        round(avg(time_on_social_media), 2) as avg_social_media\n",
    "    from\n",
    "        (select \n",
    "            *,\n",
    "            case \n",
    "                when exercise_hours >= 0 and exercise_hours < 1 then \"not_active\"\n",
    "                when exercise_hours >= 1 and exercise_hours < 3 then \"kind_of_active\"\n",
    "                when exercise_hours >= 3 then \"active\"\n",
    "            end as activity_status\n",
    "        from teen_dataset) t\n",
    "    group by activity_status\n",
    "    \"\"\"\n",
    ").show()"
   ]
  },
  {
   "cell_type": "markdown",
   "metadata": {},
   "source": [
    "### VII. Parental Control Effectiveness"
   ]
  },
  {
   "cell_type": "code",
   "execution_count": 60,
   "metadata": {},
   "outputs": [
    {
     "name": "stdout",
     "output_type": "stream",
     "text": [
      "+----------------+\n",
      "|parental_control|\n",
      "+----------------+\n",
      "|               1|\n",
      "|               0|\n",
      "+----------------+\n",
      "\n"
     ]
    }
   ],
   "source": [
    "df.select('parental_control').distinct().show()"
   ]
  },
  {
   "cell_type": "code",
   "execution_count": 67,
   "metadata": {},
   "outputs": [
    {
     "name": "stdout",
     "output_type": "stream",
     "text": [
      "+-------------------+-------------------+\n",
      "|     control_status|avg_addiction_level|\n",
      "+-------------------+-------------------+\n",
      "|   parental_control|               8.88|\n",
      "|no_parental_control|               8.88|\n",
      "+-------------------+-------------------+\n",
      "\n"
     ]
    }
   ],
   "source": [
    "spark.sql(\n",
    "    \"\"\"\n",
    "    select \n",
    "        control_status,\n",
    "        round(avg(addiction_level), 2) as avg_addiction_level\n",
    "    from \n",
    "        (select \n",
    "            *,\n",
    "            case \n",
    "                when parental_control = 1 then 'parental_control'\n",
    "                when parental_control = 0 then 'no_parental_control'\n",
    "            end as control_status\n",
    "        from teen_dataset) t\n",
    "    group by control_status\n",
    "    \"\"\"\n",
    ").show()"
   ]
  },
  {
   "cell_type": "markdown",
   "metadata": {},
   "source": [
    "### IX. High Anxiety – High Usage"
   ]
  },
  {
   "cell_type": "code",
   "execution_count": 80,
   "metadata": {},
   "outputs": [
    {
     "name": "stdout",
     "output_type": "stream",
     "text": [
      "+---+--------------------+---+------+--------------------+-------------+---+\n",
      "| id|                name|age|gender|phone_checks_per_day|anxiety_level|rnk|\n",
      "+---+--------------------+---+------+--------------------+-------------+---+\n",
      "|297|        Shawn Moreno| 19|  Male|                 131|           10|  1|\n",
      "|901|    Tiffany Mcdonald| 19|  Male|                 126|           10|  1|\n",
      "|303|Mrs. Jillian Penn...| 17|Female|                 109|           10|  1|\n",
      "| 35|         Amy Carroll| 16|  Male|                 123|           10|  1|\n",
      "|305|   Michelle Williams| 18|Female|                 125|           10|  1|\n",
      "| 49|      Tyrone Cabrera| 18|  Male|                 119|           10|  1|\n",
      "|421|          Tony Smith| 14|Female|                 114|           10|  1|\n",
      "| 78|        Joshua Moore| 19| Other|                 140|           10|  1|\n",
      "|449|    Lindsey Sheppard| 19|  Male|                 133|           10|  1|\n",
      "|122|      Heather Wilson| 14|  Male|                 119|           10|  1|\n",
      "|489|     Vanessa Farrell| 19| Other|                 150|           10|  1|\n",
      "|170|       Robert Decker| 13|  Male|                 129|           10|  1|\n",
      "|514|         Jacob Beard| 13| Other|                 119|           10|  1|\n",
      "|248|        Emma Hendrix| 16|  Male|                 140|           10|  1|\n",
      "|538|       Megan Morales| 13|  Male|                 117|           10|  1|\n",
      "|279|       Marissa Smith| 14|  Male|                 102|           10|  1|\n",
      "|585|        Mariah Walsh| 18| Other|                 129|           10|  1|\n",
      "| 12|       Ruben Walters| 14|  Male|                 147|           10|  1|\n",
      "| 47|      Kenneth Travis| 17|  Male|                 129|           10|  1|\n",
      "| 64|      Linda Fletcher| 18|Female|                 135|           10|  1|\n",
      "+---+--------------------+---+------+--------------------+-------------+---+\n",
      "only showing top 20 rows\n"
     ]
    }
   ],
   "source": [
    "spark.sql(\n",
    "    \"\"\"\n",
    "    select\n",
    "        id,\n",
    "        name,\n",
    "        age,\n",
    "        gender,\n",
    "        phone_checks_per_day,\n",
    "        anxiety_level,\n",
    "        dense_rank() over(order by anxiety_level desc) as rnk\n",
    "    from teen_dataset\n",
    "    where phone_checks_per_day > 100 and anxiety_level >= 7\n",
    "    \"\"\"\n",
    ").show()"
   ]
  },
  {
   "cell_type": "markdown",
   "metadata": {},
   "source": [
    "### X. Depression vs. Gaming"
   ]
  },
  {
   "cell_type": "code",
   "execution_count": 85,
   "metadata": {},
   "outputs": [
    {
     "name": "stdout",
     "output_type": "stream",
     "text": [
      "+---------------+--------------+------------------+\n",
      "|   gamer_status|no_of_students|avg_depression_lvl|\n",
      "+---------------+--------------+------------------+\n",
      "|gaymer_detected|           190| 5.342105263157895|\n",
      "|     not_gaymer|          2810| 5.468327402135231|\n",
      "+---------------+--------------+------------------+\n",
      "\n"
     ]
    }
   ],
   "source": [
    "spark.sql(\n",
    "    \"\"\"\n",
    "    select \n",
    "        gamer_status, \n",
    "        count(*) as no_of_students,\n",
    "        avg(depression_level) as avg_depression_lvl\n",
    "    from\n",
    "        (select\n",
    "            *,\n",
    "            case\n",
    "                when time_on_gaming > 3 then 'gaymer_detected'\n",
    "                else 'not_gaymer'\n",
    "            end as gamer_status \n",
    "        from teen_dataset) t\n",
    "    group by gamer_status\n",
    "    \"\"\"\n",
    ").show()"
   ]
  },
  {
   "cell_type": "markdown",
   "metadata": {},
   "source": [
    "### XI. Self Esteem Ranking"
   ]
  },
  {
   "cell_type": "code",
   "execution_count": 87,
   "metadata": {},
   "outputs": [
    {
     "name": "stdout",
     "output_type": "stream",
     "text": [
      "+------------+----------+\n",
      "|school_grade|avg_esteem|\n",
      "+------------+----------+\n",
      "|        10th|      5.42|\n",
      "|        12th|      5.48|\n",
      "|        11th|      5.49|\n",
      "|         8th|      5.58|\n",
      "|         7th|      5.63|\n",
      "|         9th|      5.67|\n",
      "+------------+----------+\n",
      "\n"
     ]
    }
   ],
   "source": [
    "spark.sql(\n",
    "    \"\"\"\n",
    "    select \n",
    "        school_grade, \n",
    "        round(avg(self_esteem), 2) as avg_esteem\n",
    "    from teen_dataset\n",
    "    group by school_grade\n",
    "    order by avg_esteem\n",
    "    \"\"\"\n",
    ").show()"
   ]
  },
  {
   "cell_type": "code",
   "execution_count": null,
   "metadata": {},
   "outputs": [],
   "source": []
  },
  {
   "cell_type": "code",
   "execution_count": null,
   "metadata": {},
   "outputs": [],
   "source": []
  },
  {
   "cell_type": "code",
   "execution_count": null,
   "metadata": {},
   "outputs": [],
   "source": []
  }
 ],
 "metadata": {
  "kernelspec": {
   "display_name": "kaggle_experiments",
   "language": "python",
   "name": "python3"
  },
  "language_info": {
   "codemirror_mode": {
    "name": "ipython",
    "version": 3
   },
   "file_extension": ".py",
   "mimetype": "text/x-python",
   "name": "python",
   "nbconvert_exporter": "python",
   "pygments_lexer": "ipython3",
   "version": "3.13.7"
  }
 },
 "nbformat": 4,
 "nbformat_minor": 2
}
