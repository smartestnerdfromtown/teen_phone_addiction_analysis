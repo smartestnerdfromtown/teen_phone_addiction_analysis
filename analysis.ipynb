{
 "cells": [
  {
   "cell_type": "code",
   "execution_count": 1,
   "metadata": {},
   "outputs": [],
   "source": [
    "import re\n",
    "from pyspark.sql import SparkSession\n",
    "from pyspark.sql import functions as F\n",
    "from pyspark.sql.types import (\n",
    "    StructType,\n",
    "    StructField,\n",
    "    StringType,\n",
    "    IntegerType,\n",
    "    DoubleType,\n",
    ")"
   ]
  },
  {
   "cell_type": "code",
   "execution_count": 2,
   "metadata": {},
   "outputs": [
    {
     "name": "stderr",
     "output_type": "stream",
     "text": [
      "WARNING: Using incubator modules: jdk.incubator.vector\n",
      "Using Spark's default log4j profile: org/apache/spark/log4j2-defaults.properties\n",
      "Setting default log level to \"WARN\".\n",
      "To adjust logging level use sc.setLogLevel(newLevel). For SparkR, use setLogLevel(newLevel).\n",
      "25/08/29 07:31:13 WARN NativeCodeLoader: Unable to load native-hadoop library for your platform... using builtin-java classes where applicable\n"
     ]
    }
   ],
   "source": [
    "from pyspark.sql import SparkSession\n",
    "\n",
    "spark = (\n",
    "    SparkSession.builder.appName(\"Teen_Addictions\")\n",
    "    .config(\"spark.executor.memory\", \"4g\")\n",
    "    .getOrCreate()\n",
    ")\n",
    "\n",
    "spark.sparkContext.setLogLevel(\"ERROR\")\n",
    "# Tip to reader: use WARN for development, ERROR in prod"
   ]
  },
  {
   "cell_type": "code",
   "execution_count": 3,
   "metadata": {},
   "outputs": [],
   "source": [
    "df = spark.read.csv(\n",
    "    path=\"dataset/teen_phone_addiction_dataset.csv\",\n",
    "    header=True,\n",
    "    mode=\"PERMISSIVE\",\n",
    "    inferSchema=True\n",
    ")"
   ]
  },
  {
   "cell_type": "code",
   "execution_count": 4,
   "metadata": {},
   "outputs": [
    {
     "name": "stdout",
     "output_type": "stream",
     "text": [
      "root\n",
      " |-- ID: integer (nullable = true)\n",
      " |-- Name: string (nullable = true)\n",
      " |-- Age: integer (nullable = true)\n",
      " |-- Gender: string (nullable = true)\n",
      " |-- Location: string (nullable = true)\n",
      " |-- School_Grade: string (nullable = true)\n",
      " |-- Daily_Usage_Hours: double (nullable = true)\n",
      " |-- Sleep_Hours: double (nullable = true)\n",
      " |-- Academic_Performance: integer (nullable = true)\n",
      " |-- Social_Interactions: integer (nullable = true)\n",
      " |-- Exercise_Hours: double (nullable = true)\n",
      " |-- Anxiety_Level: integer (nullable = true)\n",
      " |-- Depression_Level: integer (nullable = true)\n",
      " |-- Self_Esteem: integer (nullable = true)\n",
      " |-- Parental_Control: integer (nullable = true)\n",
      " |-- Screen_Time_Before_Bed: double (nullable = true)\n",
      " |-- Phone_Checks_Per_Day: integer (nullable = true)\n",
      " |-- Apps_Used_Daily: integer (nullable = true)\n",
      " |-- Time_on_Social_Media: double (nullable = true)\n",
      " |-- Time_on_Gaming: double (nullable = true)\n",
      " |-- Time_on_Education: double (nullable = true)\n",
      " |-- Phone_Usage_Purpose: string (nullable = true)\n",
      " |-- Family_Communication: integer (nullable = true)\n",
      " |-- Weekend_Usage_Hours: double (nullable = true)\n",
      " |-- Addiction_Level: double (nullable = true)\n",
      "\n"
     ]
    }
   ],
   "source": [
    "df.printSchema()"
   ]
  },
  {
   "cell_type": "markdown",
   "metadata": {},
   "source": [
    "## Data Cleaning and Transformations"
   ]
  },
  {
   "cell_type": "markdown",
   "metadata": {},
   "source": [
    "### Changing Column Names to `snake_case`"
   ]
  },
  {
   "cell_type": "code",
   "execution_count": 5,
   "metadata": {},
   "outputs": [],
   "source": [
    "def to_snake_case(column_name):\n",
    "    \"\"\"\n",
    "    Convert column name to snake_case (PEP8 style).\n",
    "    Example: \"Addiction_level\" -> \"addiction_level\"\n",
    "    \"\"\"\n",
    "    \n",
    "    name = column_name.lower()\n",
    "    return name"
   ]
  },
  {
   "cell_type": "code",
   "execution_count": 6,
   "metadata": {},
   "outputs": [],
   "source": [
    "current_columns = df.columns\n",
    "column_mappings = {col: to_snake_case(col) for col in current_columns}\n",
    "\n",
    "for old_name, new_name in column_mappings.items():\n",
    "    df = df.withColumnRenamed(old_name, new_name)"
   ]
  },
  {
   "cell_type": "code",
   "execution_count": 7,
   "metadata": {},
   "outputs": [
    {
     "name": "stdout",
     "output_type": "stream",
     "text": [
      "+---+---------------+---+------+------------+------------+-----------------+-----------+--------------------+-------------------+--------------+-------------+----------------+-----------+----------------+----------------------+--------------------+---------------+--------------------+--------------+-----------------+-------------------+--------------------+-------------------+---------------+\n",
      "| id|           name|age|gender|    location|school_grade|daily_usage_hours|sleep_hours|academic_performance|social_interactions|exercise_hours|anxiety_level|depression_level|self_esteem|parental_control|screen_time_before_bed|phone_checks_per_day|apps_used_daily|time_on_social_media|time_on_gaming|time_on_education|phone_usage_purpose|family_communication|weekend_usage_hours|addiction_level|\n",
      "+---+---------------+---+------+------------+------------+-----------------+-----------+--------------------+-------------------+--------------+-------------+----------------+-----------+----------------+----------------------+--------------------+---------------+--------------------+--------------+-----------------+-------------------+--------------------+-------------------+---------------+\n",
      "|  1|Shannon Francis| 13|Female|  Hansonfort|         9th|              4.0|        6.1|                  78|                  5|           0.1|           10|               3|          8|               0|                   1.4|                  86|             19|                 3.6|           1.7|              1.2|           Browsing|                   4|                8.7|           10.0|\n",
      "|  2|Scott Rodriguez| 17|Female|Theodorefort|         7th|              5.5|        6.5|                  70|                  5|           0.0|            3|               7|          3|               0|                   0.9|                  96|              9|                 1.1|           4.0|              1.8|           Browsing|                   2|                5.3|           10.0|\n",
      "|  3|    Adrian Knox| 13| Other| Lindseystad|        11th|              5.8|        5.5|                  93|                  8|           0.8|            2|               3|         10|               0|                   0.5|                 137|              8|                 0.3|           1.5|              0.4|          Education|                   6|                5.7|            9.2|\n",
      "+---+---------------+---+------+------------+------------+-----------------+-----------+--------------------+-------------------+--------------+-------------+----------------+-----------+----------------+----------------------+--------------------+---------------+--------------------+--------------+-----------------+-------------------+--------------------+-------------------+---------------+\n",
      "only showing top 3 rows\n"
     ]
    }
   ],
   "source": [
    "df.show(3)"
   ]
  },
  {
   "cell_type": "markdown",
   "metadata": {},
   "source": [
    "### Working With Genders"
   ]
  },
  {
   "cell_type": "code",
   "execution_count": 8,
   "metadata": {},
   "outputs": [
    {
     "name": "stdout",
     "output_type": "stream",
     "text": [
      "+------+\n",
      "|gender|\n",
      "+------+\n",
      "|Female|\n",
      "| Other|\n",
      "|  Male|\n",
      "+------+\n",
      "\n"
     ]
    }
   ],
   "source": [
    "df.select('gender').distinct().show()"
   ]
  },
  {
   "cell_type": "markdown",
   "metadata": {},
   "source": [
    "Did not know that we also have new gender, which is called `other`. New gender!"
   ]
  },
  {
   "cell_type": "code",
   "execution_count": 9,
   "metadata": {},
   "outputs": [],
   "source": [
    "df = df.filter(F.col('gender') != 'Other')"
   ]
  },
  {
   "cell_type": "markdown",
   "metadata": {},
   "source": [
    "## Exploration"
   ]
  },
  {
   "cell_type": "code",
   "execution_count": 10,
   "metadata": {},
   "outputs": [],
   "source": [
    "df.createOrReplaceTempView('teen_dataset')"
   ]
  },
  {
   "cell_type": "markdown",
   "metadata": {},
   "source": [
    "### I. Top 5 Addicted Teens"
   ]
  },
  {
   "cell_type": "code",
   "execution_count": 11,
   "metadata": {},
   "outputs": [
    {
     "name": "stdout",
     "output_type": "stream",
     "text": [
      "+---+----------------+---+------+------------+-----------------+\n",
      "| id|            name|age|gender|school_grade|daily_usage_hours|\n",
      "+---+----------------+---+------+------------+-----------------+\n",
      "|  1| Shannon Francis| 13|Female|         9th|              4.0|\n",
      "|  2| Scott Rodriguez| 17|Female|         7th|              5.5|\n",
      "| 11|    Bobby Sparks| 18|Female|        12th|              4.9|\n",
      "| 13|    Sarah Nguyen| 19|Female|        10th|              7.4|\n",
      "| 14|Melanie Phillips| 17|Female|         9th|              8.7|\n",
      "| 17|    Matthew Webb| 15|Female|         8th|              5.4|\n",
      "| 19|      Amy Greene| 19|Female|         9th|              7.9|\n",
      "| 29|  Tammy Gallegos| 17|Female|        10th|              6.6|\n",
      "| 60|  Kelly Carrillo| 17|Female|         7th|              6.3|\n",
      "| 67|   Zachary Parks| 16|Female|        10th|              7.4|\n",
      "| 76|      Brenda Lee| 13|Female|         8th|              6.5|\n",
      "| 77| Jennifer Levine| 17|Female|         9th|              5.8|\n",
      "| 82|      Andrew Kim| 19|Female|         7th|              7.6|\n",
      "| 95|   Wesley Miller| 18|Female|         9th|              6.4|\n",
      "| 97|   Lindsey Sloan| 18|Female|        10th|              3.3|\n",
      "|114|   James Alvarez| 15|Female|         9th|              6.9|\n",
      "|116|   Cory Santiago| 15|Female|        11th|              6.6|\n",
      "|133|   Sandra Hanson| 14|Female|        10th|              6.8|\n",
      "|139|   Austin Nelson| 14|Female|         7th|              8.0|\n",
      "|142|  Brian Mcdonald| 14|Female|        12th|              4.8|\n",
      "+---+----------------+---+------+------------+-----------------+\n",
      "only showing top 20 rows\n"
     ]
    }
   ],
   "source": [
    "spark.sql(\n",
    "    \"\"\"\n",
    "    select id, name, age, gender, school_grade, daily_usage_hours\n",
    "    from \n",
    "        (select *, \n",
    "            dense_rank() over(partition by gender order by addiction_level desc) as rnk\n",
    "        from teen_dataset) t\n",
    "    where rnk <= 5\n",
    "    \"\"\"\n",
    ").show()"
   ]
  },
  {
   "cell_type": "markdown",
   "metadata": {},
   "source": [
    "### II. Average Sleep vs. Addiction"
   ]
  },
  {
   "cell_type": "code",
   "execution_count": 12,
   "metadata": {},
   "outputs": [
    {
     "name": "stdout",
     "output_type": "stream",
     "text": [
      "+---------------+---------+\n",
      "|addiction_stage|avg_sleep|\n",
      "+---------------+---------+\n",
      "|          light|      8.2|\n",
      "|       moderate|     7.17|\n",
      "|         severe|     6.39|\n",
      "+---------------+---------+\n",
      "\n"
     ]
    }
   ],
   "source": [
    "spark.sql(\n",
    "    \"\"\"\n",
    "    select addiction_stage, round(avg(sleep_hours), 2) as avg_sleep\n",
    "    from \n",
    "        (select id, name, age, gender, school_grade, daily_usage_hours, sleep_hours,\n",
    "            (case \n",
    "                when addiction_level >= 0 and addiction_level < 3 then \"light\"\n",
    "                when addiction_level >= 3 and addiction_level < 7 then \"moderate\"\n",
    "                when addiction_level >= 7 then \"severe\"\n",
    "            end) as addiction_stage     \n",
    "        from teen_dataset) t\n",
    "    group by addiction_stage\n",
    "    \"\"\"\n",
    ").show()"
   ]
  },
  {
   "cell_type": "markdown",
   "metadata": {},
   "source": [
    "### III. Screen Time Before Bed Impact\n",
    "The idea is that I am going to compare `academic_performance` of teens who have `screen_time_before_bed` > 2 hours vs. those with less."
   ]
  },
  {
   "cell_type": "code",
   "execution_count": 13,
   "metadata": {},
   "outputs": [
    {
     "name": "stdout",
     "output_type": "stream",
     "text": [
      "+------------+---------------+\n",
      "|watch_status|avg_performance|\n",
      "+------------+---------------+\n",
      "|     watcher|          74.28|\n",
      "| non_watcher|          74.71|\n",
      "+------------+---------------+\n",
      "\n"
     ]
    }
   ],
   "source": [
    "spark.sql(\n",
    "    \"\"\"\n",
    "    select \n",
    "        watch_status, \n",
    "        round(avg(academic_performance), 2) as avg_performance\n",
    "    from \n",
    "        (select \n",
    "            (case \n",
    "                when screen_time_before_bed > 2 then \"watcher\" \n",
    "                else \"non_watcher\" \n",
    "            end) as watch_status, \n",
    "            id, \n",
    "            name,\n",
    "            academic_performance,\n",
    "            screen_time_before_bed\n",
    "        from teen_dataset\n",
    "        order by screen_time_before_bed desc) t\n",
    "    group by watch_status\n",
    "    \"\"\"\n",
    ").show()"
   ]
  },
  {
   "cell_type": "markdown",
   "metadata": {},
   "source": [
    "### IV. Phone Purpose Distribution"
   ]
  },
  {
   "cell_type": "code",
   "execution_count": 14,
   "metadata": {},
   "outputs": [
    {
     "name": "stdout",
     "output_type": "stream",
     "text": [
      "+-------------------+\n",
      "|phone_usage_purpose|\n",
      "+-------------------+\n",
      "|          Education|\n",
      "|             Gaming|\n",
      "|           Browsing|\n",
      "|              Other|\n",
      "|       Social Media|\n",
      "+-------------------+\n",
      "\n"
     ]
    }
   ],
   "source": [
    "df.select('phone_usage_purpose').distinct().show()"
   ]
  },
  {
   "cell_type": "code",
   "execution_count": 15,
   "metadata": {},
   "outputs": [
    {
     "name": "stdout",
     "output_type": "stream",
     "text": [
      "+-------------------+---------------+----------+---------------+\n",
      "|phone_usage_purpose|avg_performance|avg_esteem|number_of_users|\n",
      "+-------------------+---------------+----------+---------------+\n",
      "|          Education|           75.0|       6.0|            383|\n",
      "|             Gaming|           76.0|       6.0|            390|\n",
      "|           Browsing|           75.0|       6.0|            440|\n",
      "|              Other|           74.0|       6.0|            423|\n",
      "|       Social Media|           75.0|       5.0|            387|\n",
      "+-------------------+---------------+----------+---------------+\n",
      "\n"
     ]
    }
   ],
   "source": [
    "spark.sql(\n",
    "    \"\"\"\n",
    "    select \n",
    "        phone_usage_purpose,\n",
    "        round(avg(academic_performance)) as avg_performance,\n",
    "        round(avg(self_esteem)) as avg_esteem,\n",
    "        count(*) as number_of_users\n",
    "    from teen_dataset\n",
    "    group by phone_usage_purpose \n",
    "    \"\"\"\n",
    ").show()"
   ]
  },
  {
   "cell_type": "markdown",
   "metadata": {},
   "source": [
    "### V. Weekend vs. Weekday Usage (indicating binge usage)"
   ]
  },
  {
   "cell_type": "code",
   "execution_count": 16,
   "metadata": {},
   "outputs": [
    {
     "name": "stdout",
     "output_type": "stream",
     "text": [
      "+--------------------+-------------------+-----------------+\n",
      "|                name|weekend_usage_hours|daily_usage_hours|\n",
      "+--------------------+-------------------+-----------------+\n",
      "|     Shannon Francis|                8.7|              4.0|\n",
      "|        Edward Avila|                9.1|              3.0|\n",
      "|    Michael Williams|                6.7|              3.0|\n",
      "|    Patricia Johnson|                5.7|              2.7|\n",
      "|      Cameron Hansen|                6.2|              1.7|\n",
      "|         Brandi King|                5.8|              1.0|\n",
      "|    Kathleen Hoffman|                7.6|              3.4|\n",
      "|         Maria Ochoa|                9.3|              3.8|\n",
      "|       Brian Coleman|                5.3|              0.7|\n",
      "|    Gregory Martinez|                6.7|              3.0|\n",
      "|     Valerie Blevins|                8.2|              2.8|\n",
      "|        John Griffin|                6.7|              3.0|\n",
      "|Christine Cunningham|                9.5|              2.6|\n",
      "|           Amy Smith|                3.6|              0.0|\n",
      "|      Michael Parker|                7.2|              3.3|\n",
      "|        Travis Ponce|                8.0|              2.4|\n",
      "|      Michael Morris|                6.6|              0.2|\n",
      "|      Alyssa Webb MD|                7.6|              2.7|\n",
      "|        Ronald Davis|                6.9|              2.5|\n",
      "|     Jeffrey Mendoza|                7.7|              3.5|\n",
      "+--------------------+-------------------+-----------------+\n",
      "only showing top 20 rows\n"
     ]
    }
   ],
   "source": [
    "spark.sql(\n",
    "    \"\"\"\n",
    "    select \n",
    "        name,\n",
    "        weekend_usage_hours,\n",
    "        daily_usage_hours\n",
    "    from teen_dataset\n",
    "    where weekend_usage_hours > 2 * daily_usage_hours\n",
    "    \"\"\"\n",
    ").show()"
   ]
  },
  {
   "cell_type": "markdown",
   "metadata": {},
   "source": [
    "### VI. Top Performers with High Usage"
   ]
  },
  {
   "cell_type": "code",
   "execution_count": 17,
   "metadata": {},
   "outputs": [
    {
     "name": "stdout",
     "output_type": "stream",
     "text": [
      "+----+-------------------+------+-----------------+--------------------+\n",
      "|  id|               name|gender|daily_usage_hours|academic_performance|\n",
      "+----+-------------------+------+-----------------+--------------------+\n",
      "| 583|       Julia Rogers|Female|             10.5|                  97|\n",
      "| 978|     Alyssa Jenkins|  Male|              9.4|                  97|\n",
      "| 596|      Brian Alvarez|Female|              9.1|                  99|\n",
      "|2980|      Travis Harris|  Male|              8.7|                  98|\n",
      "| 754|    Matthew Gardner|Female|              8.5|                  98|\n",
      "| 239|      Kelly Vasquez|  Male|              8.4|                  99|\n",
      "| 930|      Nina Humphrey|  Male|              8.4|                 100|\n",
      "| 616|Christopher Jackson|  Male|              8.3|                  97|\n",
      "| 705|         Dawn Solis|  Male|              8.3|                  98|\n",
      "|  19|         Amy Greene|Female|              7.9|                  96|\n",
      "| 800|      Zachary Moore|  Male|              7.8|                  96|\n",
      "| 945|            Amy Fox|  Male|              7.8|                  98|\n",
      "|2128|     Michelle Lucas|  Male|              7.7|                  98|\n",
      "|1694|       Tracy Sparks|Female|              7.5|                  98|\n",
      "| 899|     Joshua Mendoza|  Male|              7.4|                  97|\n",
      "|  67|      Zachary Parks|Female|              7.4|                 100|\n",
      "| 464|  Jennifer Anderson|  Male|              7.4|                  96|\n",
      "|2048|      Erica Johnson|Female|              7.3|                  96|\n",
      "|1411|      Kenneth Brown|Female|              7.3|                  96|\n",
      "|1866|    Kenneth Meadows|  Male|              7.3|                  99|\n",
      "+----+-------------------+------+-----------------+--------------------+\n",
      "only showing top 20 rows\n"
     ]
    }
   ],
   "source": [
    "spark.sql(\n",
    "    \"\"\"\n",
    "    select \n",
    "        id, \n",
    "        name, \n",
    "        gender, \n",
    "        daily_usage_hours, \n",
    "        academic_performance\n",
    "    from \n",
    "        (select *\n",
    "        from teen_dataset\n",
    "        where daily_usage_hours > 6) t\n",
    "    where academic_performance > 95\n",
    "    order by daily_usage_hours desc\n",
    "    \"\"\"\n",
    ").show()"
   ]
  },
  {
   "cell_type": "markdown",
   "metadata": {},
   "source": [
    "### VII. Exercise vs. Social Media"
   ]
  },
  {
   "cell_type": "code",
   "execution_count": 18,
   "metadata": {},
   "outputs": [
    {
     "name": "stdout",
     "output_type": "stream",
     "text": [
      "+---------------+---------------+----------------+\n",
      "|activity_status|no_of_staudents|avg_social_media|\n",
      "+---------------+---------------+----------------+\n",
      "| kind_of_active|           1047|            2.48|\n",
      "|     not_active|            959|            2.53|\n",
      "|         active|             17|            2.47|\n",
      "+---------------+---------------+----------------+\n",
      "\n"
     ]
    }
   ],
   "source": [
    "spark.sql(\n",
    "    \"\"\"\n",
    "    select \n",
    "        activity_status, \n",
    "        count(*) as no_of_staudents,\n",
    "        round(avg(time_on_social_media), 2) as avg_social_media\n",
    "    from\n",
    "        (select \n",
    "            *,\n",
    "            case \n",
    "                when exercise_hours >= 0 and exercise_hours < 1 then \"not_active\"\n",
    "                when exercise_hours >= 1 and exercise_hours < 3 then \"kind_of_active\"\n",
    "                when exercise_hours >= 3 then \"active\"\n",
    "            end as activity_status\n",
    "        from teen_dataset) t\n",
    "    group by activity_status\n",
    "    \"\"\"\n",
    ").show()"
   ]
  },
  {
   "cell_type": "markdown",
   "metadata": {},
   "source": [
    "### VII. Parental Control Effectiveness"
   ]
  },
  {
   "cell_type": "code",
   "execution_count": 19,
   "metadata": {},
   "outputs": [
    {
     "name": "stdout",
     "output_type": "stream",
     "text": [
      "+----------------+\n",
      "|parental_control|\n",
      "+----------------+\n",
      "|               1|\n",
      "|               0|\n",
      "+----------------+\n",
      "\n"
     ]
    }
   ],
   "source": [
    "df.select('parental_control').distinct().show()"
   ]
  },
  {
   "cell_type": "code",
   "execution_count": 20,
   "metadata": {},
   "outputs": [
    {
     "name": "stdout",
     "output_type": "stream",
     "text": [
      "+-------------------+-------------------+\n",
      "|     control_status|avg_addiction_level|\n",
      "+-------------------+-------------------+\n",
      "|   parental_control|               8.92|\n",
      "|no_parental_control|               8.89|\n",
      "+-------------------+-------------------+\n",
      "\n"
     ]
    }
   ],
   "source": [
    "spark.sql(\n",
    "    \"\"\"\n",
    "    select \n",
    "        control_status,\n",
    "        round(avg(addiction_level), 2) as avg_addiction_level\n",
    "    from \n",
    "        (select \n",
    "            *,\n",
    "            case \n",
    "                when parental_control = 1 then 'parental_control'\n",
    "                when parental_control = 0 then 'no_parental_control'\n",
    "            end as control_status\n",
    "        from teen_dataset) t\n",
    "    group by control_status\n",
    "    \"\"\"\n",
    ").show()"
   ]
  },
  {
   "cell_type": "markdown",
   "metadata": {},
   "source": [
    "### IX. High Anxiety – High Usage"
   ]
  },
  {
   "cell_type": "code",
   "execution_count": 21,
   "metadata": {},
   "outputs": [
    {
     "name": "stdout",
     "output_type": "stream",
     "text": [
      "+----+-----------------+---+------+--------------------+-------------+---+\n",
      "|  id|             name|age|gender|phone_checks_per_day|anxiety_level|rnk|\n",
      "+----+-----------------+---+------+--------------------+-------------+---+\n",
      "| 449| Lindsey Sheppard| 19|  Male|                 133|           10|  1|\n",
      "|1240|    Vincent Logan| 15|  Male|                 119|           10|  1|\n",
      "| 538|    Megan Morales| 13|  Male|                 117|           10|  1|\n",
      "| 421|       Tony Smith| 14|Female|                 114|           10|  1|\n",
      "| 668|     Joshua Young| 13|  Male|                 126|           10|  1|\n",
      "|  35|      Amy Carroll| 16|  Male|                 123|           10|  1|\n",
      "| 689|   Dana Rodriguez| 19|Female|                 134|           10|  1|\n",
      "|  49|   Tyrone Cabrera| 18|  Male|                 119|           10|  1|\n",
      "| 699|   Brittany Klein| 18|  Male|                 121|           10|  1|\n",
      "|  88|    Brian Coleman| 19|Female|                 146|           10|  1|\n",
      "| 719|     William Rich| 17|Female|                 131|           10|  1|\n",
      "|  12|    Ruben Walters| 14|  Male|                 147|           10|  1|\n",
      "| 794|     Andrew Brown| 13|Female|                 102|           10|  1|\n",
      "| 263|     Jeffrey Dunn| 19|  Male|                 103|           10|  1|\n",
      "| 832|     Debbie Floyd| 15|Female|                 120|           10|  1|\n",
      "| 297|     Shawn Moreno| 19|  Male|                 131|           10|  1|\n",
      "| 846|        David Cox| 18|Female|                 144|           10|  1|\n",
      "| 305|Michelle Williams| 18|Female|                 125|           10|  1|\n",
      "| 152|   Michelle Perez| 13|Female|                 114|           10|  1|\n",
      "| 170|    Robert Decker| 13|  Male|                 129|           10|  1|\n",
      "+----+-----------------+---+------+--------------------+-------------+---+\n",
      "only showing top 20 rows\n"
     ]
    }
   ],
   "source": [
    "spark.sql(\n",
    "    \"\"\"\n",
    "    select\n",
    "        id,\n",
    "        name,\n",
    "        age,\n",
    "        gender,\n",
    "        phone_checks_per_day,\n",
    "        anxiety_level,\n",
    "        dense_rank() over(order by anxiety_level desc) as rnk\n",
    "    from teen_dataset\n",
    "    where phone_checks_per_day > 100 and anxiety_level >= 7\n",
    "    \"\"\"\n",
    ").show()"
   ]
  },
  {
   "cell_type": "markdown",
   "metadata": {},
   "source": [
    "### X. Depression vs. Gaming"
   ]
  },
  {
   "cell_type": "code",
   "execution_count": 22,
   "metadata": {},
   "outputs": [
    {
     "name": "stdout",
     "output_type": "stream",
     "text": [
      "+---------------+--------------+------------------+\n",
      "|   gamer_status|no_of_students|avg_depression_lvl|\n",
      "+---------------+--------------+------------------+\n",
      "|gaymer_detected|           139| 5.402877697841727|\n",
      "|     not_gaymer|          1884| 5.487791932059448|\n",
      "+---------------+--------------+------------------+\n",
      "\n"
     ]
    }
   ],
   "source": [
    "spark.sql(\n",
    "    \"\"\"\n",
    "    select \n",
    "        gamer_status, \n",
    "        count(*) as no_of_students,\n",
    "        avg(depression_level) as avg_depression_lvl\n",
    "    from\n",
    "        (select\n",
    "            *,\n",
    "            case\n",
    "                when time_on_gaming > 3 then 'gaymer_detected'\n",
    "                else 'not_gaymer'\n",
    "            end as gamer_status \n",
    "        from teen_dataset) t\n",
    "    group by gamer_status\n",
    "    \"\"\"\n",
    ").show()"
   ]
  },
  {
   "cell_type": "markdown",
   "metadata": {},
   "source": [
    "### XI. Self Esteem Ranking"
   ]
  },
  {
   "cell_type": "code",
   "execution_count": 23,
   "metadata": {},
   "outputs": [
    {
     "name": "stdout",
     "output_type": "stream",
     "text": [
      "+------------+----------+\n",
      "|school_grade|avg_esteem|\n",
      "+------------+----------+\n",
      "|        12th|      5.38|\n",
      "|        10th|      5.49|\n",
      "|        11th|      5.58|\n",
      "|         9th|      5.61|\n",
      "|         8th|      5.64|\n",
      "|         7th|      5.81|\n",
      "+------------+----------+\n",
      "\n"
     ]
    }
   ],
   "source": [
    "spark.sql(\n",
    "    \"\"\"\n",
    "    select \n",
    "        school_grade, \n",
    "        round(avg(self_esteem), 2) as avg_esteem\n",
    "    from teen_dataset\n",
    "    group by school_grade\n",
    "    order by avg_esteem\n",
    "    \"\"\"\n",
    ").show()"
   ]
  },
  {
   "cell_type": "markdown",
   "metadata": {},
   "source": [
    "### XII. Daily Usage by Location"
   ]
  },
  {
   "cell_type": "code",
   "execution_count": 24,
   "metadata": {},
   "outputs": [
    {
     "name": "stdout",
     "output_type": "stream",
     "text": [
      "+-------------------+-----------+\n",
      "|           location|daily_usage|\n",
      "+-------------------+-----------+\n",
      "|       Deborahmouth|       11.2|\n",
      "|    North Henryfort|       11.0|\n",
      "|       Derrickville|       11.0|\n",
      "|    North Jacobstad|       10.6|\n",
      "|         Walkerview|       10.6|\n",
      "|        Desireeland|       10.5|\n",
      "|      West Johntown|       10.3|\n",
      "|        Butlerhaven|       10.2|\n",
      "|      West Lisaberg|       10.2|\n",
      "|         Turnerfurt|       10.2|\n",
      "|  North Reginahaven|        9.7|\n",
      "|         Jeremyport|        9.7|\n",
      "|        West Justin|        9.5|\n",
      "|     West Jasonstad|        9.5|\n",
      "|   North Nathanstad|        9.5|\n",
      "|     East Alejandro|        9.4|\n",
      "|   Christophermouth|        9.4|\n",
      "|  New Joannachester|        9.4|\n",
      "|South Kimberlymouth|        9.4|\n",
      "|      Margaretville|        9.3|\n",
      "+-------------------+-----------+\n",
      "only showing top 20 rows\n"
     ]
    }
   ],
   "source": [
    "spark.sql(\n",
    "    \"\"\"\n",
    "    select \n",
    "        location, \n",
    "        avg(daily_usage_hours) as daily_usage\n",
    "    from teen_dataset\n",
    "    group by location\n",
    "    order by daily_usage desc\n",
    "    \"\"\"\n",
    ").show()"
   ]
  },
  {
   "cell_type": "code",
   "execution_count": 25,
   "metadata": {},
   "outputs": [
    {
     "name": "stdout",
     "output_type": "stream",
     "text": [
      "+----+----------------+---+------+--------------+-----------------+\n",
      "|  id|            name|age|gender|      location|daily_usage_hours|\n",
      "+----+----------------+---+------+--------------+-----------------+\n",
      "|2318|    Justin Jones| 19|Female|     Aaronfurt|              2.2|\n",
      "|2478|Cynthia Gonzalez| 13|  Male|     Aaronland|              4.6|\n",
      "|1032|   Tracey Watson| 19|Female|   Abbottville|              7.8|\n",
      "|2554|  Sherry Gregory| 18|  Male|   Abigailview|              6.2|\n",
      "| 170|   Robert Decker| 13|  Male|     Adammouth|              4.6|\n",
      "| 729|Michelle Jackson| 18|Female|     Adamsside|              4.5|\n",
      "|1635|Cynthia Crawford| 16|Female|     Adamsstad|              6.8|\n",
      "|1073|Crystal Whitaker| 16|Female|    Albertberg|              2.7|\n",
      "|1988|   Melissa Scott| 18|Female|     Alecville|              4.7|\n",
      "|  65|  Jaclyn Salazar| 17|  Male|Alejandraburgh|              8.7|\n",
      "|1681|   Madison Nunez| 19|Female|Alejandramouth|              5.4|\n",
      "|2116|      Emma Evans| 18|Female| Alexanderview|              6.2|\n",
      "|2692|       Cory Wade| 19|  Male|   Aliciaburgh|              3.6|\n",
      "|2339| James Henderson| 15|Female|   Aliciamouth|              1.2|\n",
      "|2535|   Madison Costa| 17|  Male|    Allenville|              4.3|\n",
      "|2823| Jerry Patterson| 17|Female|Alvarezborough|              6.7|\n",
      "|1548|  Samantha Adams| 13|Female|  Alvarezmouth|              2.4|\n",
      "| 772|    Amanda Baker| 13|  Male|   Alvarezview|              2.4|\n",
      "|2462|      Mary Davis| 19|  Male|   Alyssaburgh|              1.2|\n",
      "| 733|    Brett Bowman| 17|Female|     Alyssaton|              5.4|\n",
      "+----+----------------+---+------+--------------+-----------------+\n",
      "only showing top 20 rows\n"
     ]
    }
   ],
   "source": [
    "spark.sql(\n",
    "    \"\"\"\n",
    "    select \n",
    "        id, \n",
    "        name, \n",
    "        age, \n",
    "        gender, \n",
    "        location, \n",
    "        daily_usage_hours\n",
    "    from (select \n",
    "            *, \n",
    "            dense_rank() over(partition by location order by daily_usage_hours desc) as rnk\n",
    "        from teen_dataset) t\n",
    "    where rnk = 1\n",
    "    \"\"\"\n",
    ").show()"
   ]
  },
  {
   "cell_type": "markdown",
   "metadata": {},
   "source": [
    "### XIII. Education-Oriented Students"
   ]
  },
  {
   "cell_type": "code",
   "execution_count": 26,
   "metadata": {},
   "outputs": [
    {
     "name": "stdout",
     "output_type": "stream",
     "text": [
      "+----+-----------------+------+-----------------+----------------------+\n",
      "|  id|             name|gender|time_on_education|social_gaming_combined|\n",
      "+----+-----------------+------+-----------------+----------------------+\n",
      "| 844|    Joseph Taylor|  Male|              2.2|                   1.9|\n",
      "|1174|    Casey Sanford|  Male|              2.5|                   2.1|\n",
      "|1324|  Sara Cunningham|Female|              2.3|                   1.3|\n",
      "|1371|   Jeffrey Parker|  Male|              2.8|                   2.1|\n",
      "|1584| Katherine Harris|Female|              2.1|                   1.6|\n",
      "|1889|Christopher Moses|Female|              2.7|                   2.2|\n",
      "|2040|       Renee Dean|Female|              2.9|                   1.7|\n",
      "|2067|  Nicholas Snyder|  Male|              2.8|                   2.5|\n",
      "|2767|       Gary Jones|  Male|              2.2|                   2.1|\n",
      "|2797|       Sara Moore|  Male|              2.2|                   1.4|\n",
      "|2955|      Tracy Perry|  Male|              2.3|                   0.8|\n",
      "+----+-----------------+------+-----------------+----------------------+\n",
      "\n"
     ]
    }
   ],
   "source": [
    "spark.sql(\n",
    "    \"\"\"\n",
    "    select \n",
    "        id, \n",
    "        name, \n",
    "        gender, \n",
    "        time_on_education, \n",
    "        social_gaming_combined\n",
    "    from \n",
    "        (select \n",
    "            *,\n",
    "            round(time_on_social_media + time_on_gaming, 2) as social_gaming_combined\n",
    "        from teen_dataset) t\n",
    "    where \n",
    "        time_on_education > social_gaming_combined\n",
    "        and\n",
    "        time_on_education > 2\n",
    "    \"\"\"\n",
    ").show()"
   ]
  },
  {
   "cell_type": "markdown",
   "metadata": {},
   "source": [
    "### XIV. School-Life Balance"
   ]
  },
  {
   "cell_type": "code",
   "execution_count": 27,
   "metadata": {},
   "outputs": [
    {
     "name": "stdout",
     "output_type": "stream",
     "text": [
      "+----+--------------------+------+-----------------+-----------+--------------+--------------------+\n",
      "|  id|                name|gender|daily_usage_hours|sleep_hours|exercise_hours|academic_performance|\n",
      "+----+--------------------+------+-----------------+-----------+--------------+--------------------+\n",
      "| 342|Christopher Hamilton|Female|              2.9|        8.1|           1.2|                  82|\n",
      "| 476|      Kathryn Bowman|Female|              1.1|        9.0|           1.1|                  98|\n",
      "| 504|      Elizabeth King|  Male|              2.8|        8.9|           2.0|                  91|\n",
      "|1091|        Robert Quinn|Female|              0.0|        8.1|           1.5|                  82|\n",
      "|1412|    Brandon Santiago|Female|              0.0|        8.8|           1.9|                  95|\n",
      "|1724|      Lindsey Thomas|  Male|              2.7|        8.1|           2.0|                  90|\n",
      "|2034|       Regina Burton|Female|              0.9|        8.8|           1.4|                  84|\n",
      "|2115|         Robert York|Female|              3.0|        8.6|           1.1|                  95|\n",
      "|2339|     James Henderson|Female|              1.2|        8.0|           1.5|                  98|\n",
      "+----+--------------------+------+-----------------+-----------+--------------+--------------------+\n",
      "\n"
     ]
    }
   ],
   "source": [
    "spark.sql(\n",
    "    \"\"\"\n",
    "    select \n",
    "        id, \n",
    "        name,\n",
    "        gender,\n",
    "        daily_usage_hours,\n",
    "        sleep_hours,\n",
    "        exercise_hours,\n",
    "        academic_performance\n",
    "    from \n",
    "        (select \n",
    "            *\n",
    "        from teen_dataset\n",
    "        where \n",
    "            daily_usage_hours <= 3\n",
    "            and\n",
    "            sleep_hours >= 8\n",
    "            and\n",
    "            exercise_hours >= 1) t\n",
    "    where academic_performance >= 81\n",
    "    \"\"\"\n",
    ").show()"
   ]
  },
  {
   "cell_type": "code",
   "execution_count": 28,
   "metadata": {},
   "outputs": [
    {
     "name": "stdout",
     "output_type": "stream",
     "text": [
      "+---+---------------+---+------+----------+------------+-----------------+-----------+--------------------+-------------------+--------------+-------------+----------------+-----------+----------------+----------------------+--------------------+---------------+--------------------+--------------+-----------------+-------------------+--------------------+-------------------+---------------+\n",
      "| id|           name|age|gender|  location|school_grade|daily_usage_hours|sleep_hours|academic_performance|social_interactions|exercise_hours|anxiety_level|depression_level|self_esteem|parental_control|screen_time_before_bed|phone_checks_per_day|apps_used_daily|time_on_social_media|time_on_gaming|time_on_education|phone_usage_purpose|family_communication|weekend_usage_hours|addiction_level|\n",
      "+---+---------------+---+------+----------+------------+-----------------+-----------+--------------------+-------------------+--------------+-------------+----------------+-----------+----------------+----------------------+--------------------+---------------+--------------------+--------------+-----------------+-------------------+--------------------+-------------------+---------------+\n",
      "|  1|Shannon Francis| 13|Female|Hansonfort|         9th|              4.0|        6.1|                  78|                  5|           0.1|           10|               3|          8|               0|                   1.4|                  86|             19|                 3.6|           1.7|              1.2|           Browsing|                   4|                8.7|           10.0|\n",
      "+---+---------------+---+------+----------+------------+-----------------+-----------+--------------------+-------------------+--------------+-------------+----------------+-----------+----------------+----------------------+--------------------+---------------+--------------------+--------------+-----------------+-------------------+--------------------+-------------------+---------------+\n",
      "only showing top 1 row\n"
     ]
    }
   ],
   "source": [
    "df.show(1)"
   ]
  },
  {
   "cell_type": "markdown",
   "metadata": {},
   "source": [
    "### XV. Socially Active but Anxious"
   ]
  },
  {
   "cell_type": "code",
   "execution_count": 40,
   "metadata": {},
   "outputs": [
    {
     "name": "stdout",
     "output_type": "stream",
     "text": [
      "+----+------------------+---+------+------------+-------------------+---+\n",
      "|  id|              name|age|gender|school_grade|social_interactions|rnk|\n",
      "+----+------------------+---+------+------------+-------------------+---+\n",
      "| 249|      Spencer Cook| 15|Female|        10th|                 10|  1|\n",
      "|1500|        Debra Owen| 19|  Male|        10th|                 10|  1|\n",
      "|1694|      Tracy Sparks| 16|Female|        10th|                 10|  1|\n",
      "| 846|         David Cox| 18|Female|        10th|                  9|  2|\n",
      "|1571|     Robert Hanson| 19|Female|        10th|                  9|  2|\n",
      "|2040|        Renee Dean| 17|Female|        10th|                  9|  2|\n",
      "|2154|   Kevin Fernandez| 17|Female|        10th|                  9|  2|\n",
      "|2175|      Lance Snyder| 16|Female|        10th|                  9|  2|\n",
      "|  12|     Ruben Walters| 14|  Male|        11th|                 10|  1|\n",
      "| 305| Michelle Williams| 18|Female|        11th|                 10|  1|\n",
      "| 980|     Angela Walker| 18|Female|        11th|                 10|  1|\n",
      "|2559|       James Smith| 19|Female|        11th|                 10|  1|\n",
      "|1749|  Patricia Marquez| 19|  Male|        11th|                  9|  2|\n",
      "|2274|  Desiree Thompson| 18|Female|        11th|                  9|  2|\n",
      "| 918|    Timothy Taylor| 15|Female|        12th|                 10|  1|\n",
      "|1169|  Timothy Thompson| 13|Female|        12th|                 10|  1|\n",
      "|1631|    Spencer Ingram| 17|  Male|        12th|                 10|  1|\n",
      "|1780|    Elizabeth Moon| 16|  Male|        12th|                 10|  1|\n",
      "|2224|      Kelly Palmer| 14|Female|        12th|                 10|  1|\n",
      "| 840|Michael Strickland| 15|  Male|        12th|                  8|  2|\n",
      "+----+------------------+---+------+------------+-------------------+---+\n",
      "only showing top 20 rows\n"
     ]
    }
   ],
   "source": [
    "spark.sql(\n",
    "    \"\"\"\n",
    "    select \n",
    "        id, \n",
    "        name, \n",
    "        age,\n",
    "        gender,\n",
    "        school_grade,\n",
    "        social_interactions,\n",
    "        rnk\n",
    "    from \n",
    "        ( select \n",
    "            id, \n",
    "            name, \n",
    "            age,\n",
    "            gender,\n",
    "            school_grade,\n",
    "            social_interactions,\n",
    "            dense_rank() over(partition by school_grade order by social_interactions desc) as rnk\n",
    "        from  \n",
    "            (select *\n",
    "            from teen_dataset\n",
    "            where anxiety_level > 9) t) p\n",
    "    where rnk <= 2\n",
    "    \"\"\"\n",
    ").show()"
   ]
  },
  {
   "cell_type": "code",
   "execution_count": null,
   "metadata": {},
   "outputs": [],
   "source": []
  },
  {
   "cell_type": "code",
   "execution_count": null,
   "metadata": {},
   "outputs": [],
   "source": []
  }
 ],
 "metadata": {
  "kernelspec": {
   "display_name": "kaggle_experiments",
   "language": "python",
   "name": "python3"
  },
  "language_info": {
   "codemirror_mode": {
    "name": "ipython",
    "version": 3
   },
   "file_extension": ".py",
   "mimetype": "text/x-python",
   "name": "python",
   "nbconvert_exporter": "python",
   "pygments_lexer": "ipython3",
   "version": "3.13.7"
  }
 },
 "nbformat": 4,
 "nbformat_minor": 2
}
